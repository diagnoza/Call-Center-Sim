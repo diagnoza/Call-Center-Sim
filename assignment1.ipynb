{
  "nbformat": 4,
  "nbformat_minor": 0,
  "metadata": {
    "colab": {
      "name": "assignment1.ipynb",
      "provenance": [],
      "collapsed_sections": [],
      "authorship_tag": "ABX9TyMmIQ1u6u0NThMYKqVjh8ou",
      "include_colab_link": true
    },
    "kernelspec": {
      "name": "python3",
      "display_name": "Python 3"
    }
  },
  "cells": [
    {
      "cell_type": "markdown",
      "metadata": {
        "id": "view-in-github",
        "colab_type": "text"
      },
      "source": [
        "<a href=\"https://colab.research.google.com/github/diagnoza/Call-Center-Sim/blob/master/assignment1.ipynb\" target=\"_parent\"><img src=\"https://colab.research.google.com/assets/colab-badge.svg\" alt=\"Open In Colab\"/></a>"
      ]
    },
    {
      "cell_type": "code",
      "metadata": {
        "id": "O9c-Qw50_xtm"
      },
      "source": [
        "import pandas as pd\n",
        "import numpy as np\n",
        "from numpy import random\n",
        "from sklearn import tree\n",
        "from sklearn.metrics import accuracy_score\n",
        "from sklearn.model_selection import train_test_split\n",
        "\n",
        "data_diabetes = pd.read_csv('diabetes.csv')\n",
        "data_glass = pd.read_csv('glass.csv')\n",
        "\n",
        "\n"
      ],
      "execution_count": 31,
      "outputs": []
    },
    {
      "cell_type": "markdown",
      "metadata": {
        "id": "IMGnRStExozA"
      },
      "source": [
        "# **4.c**"
      ]
    },
    {
      "cell_type": "markdown",
      "metadata": {
        "id": "A9e4_sGAm2Oh"
      },
      "source": [
        "**Dataset: diabetes**"
      ]
    },
    {
      "cell_type": "code",
      "metadata": {
        "id": "SBQLdzABfXGP",
        "outputId": "0732492c-9bd9-4754-e801-705d8fd254ac",
        "colab": {
          "base_uri": "https://localhost:8080/"
        }
      },
      "source": [
        "Y = data_diabetes['class']\n",
        "X = data_diabetes.drop(['class'],axis=1)\n",
        "## One-level decision tree\n",
        "print(\"*** Diabetes dataset ***\")\n",
        "print(\"**    One-level DT    **\")\n",
        "clf = tree.DecisionTreeClassifier(criterion = 'entropy', min_samples_leaf = 10, max_depth = 1)\n",
        "\n",
        "# Hold-out validation\n",
        "X_train, X_test, Y_train, Y_test = train_test_split(X, Y, test_size=0.34, random_state=random.randint(100))\n",
        "clf = clf.fit(X_train, Y_train)\n",
        "\n",
        "Y_predict = clf.predict(X_train)\n",
        "acc = accuracy_score(Y_train, Y_predict)\n",
        "print(\"Training accuracy rate: %s\" % acc)\n",
        "Y_predict = clf.predict(X_test)\n",
        "acc = accuracy_score(Y_test, Y_predict)\n",
        "print(\"Validation accuracy rate: %s\" % acc)\n",
        "\n",
        "## Multi-level decision tree\n",
        "print(\"**    Multi-level DT    **\")\n",
        "clf = tree.DecisionTreeClassifier(criterion = 'entropy', min_samples_leaf = 10, max_depth = None)\n",
        "\n",
        "# Hold-out validation\n",
        "X_train, X_test, Y_train, Y_test = train_test_split(X, Y, test_size=0.34, random_state=random.randint(100))\n",
        "clf = clf.fit(X_train, Y_train)\n",
        "\n",
        "Y_predict = clf.predict(X_train)\n",
        "acc = accuracy_score(Y_train, Y_predict)\n",
        "print(\"Training accuracy rate: %s\" % acc)\n",
        "Y_predict = clf.predict(X_test)\n",
        "acc = accuracy_score(Y_test, Y_predict)\n",
        "print(\"Validation accuracy rate: %s\" % acc)"
      ],
      "execution_count": 229,
      "outputs": [
        {
          "output_type": "stream",
          "text": [
            "*** Diabetes dataset ***\n",
            "**    One-level DT    **\n",
            "Training accuracy rate: 0.7509881422924901\n",
            "Prediction accuracy rate: 0.7404580152671756\n",
            "**    Multi-level DT    **\n",
            "Training accuracy rate: 0.8537549407114624\n",
            "Prediction accuracy rate: 0.7022900763358778\n"
          ],
          "name": "stdout"
        }
      ]
    },
    {
      "cell_type": "markdown",
      "metadata": {
        "id": "2kPSQC7Mrj_t"
      },
      "source": [
        "**Dataset: glass**"
      ]
    },
    {
      "cell_type": "code",
      "metadata": {
        "id": "GRYI5JGvrmuM",
        "outputId": "7c92a6d2-f9d2-4fbb-f89b-18b5750cd195",
        "colab": {
          "base_uri": "https://localhost:8080/"
        }
      },
      "source": [
        "Y = data_glass['class']\n",
        "X = data_glass.drop(['class'],axis=1)\n",
        "## One-level decision tree\n",
        "print(\"***  Glass  dataset  ***\")\n",
        "print(\"**    One-level DT    **\")\n",
        "clf = tree.DecisionTreeClassifier(criterion = 'entropy', min_samples_leaf = 10, max_depth = 1)\n",
        "\n",
        "# Hold-out validation\n",
        "X_train, X_test, Y_train, Y_test = train_test_split(X, Y, test_size=0.34, random_state=random.randint(100))\n",
        "clf = clf.fit(X_train, Y_train)\n",
        "\n",
        "Y_predict = clf.predict(X_train)\n",
        "acc = accuracy_score(Y_train, Y_predict)\n",
        "print(\"Training accuracy rate: %s\" % acc)\n",
        "Y_predict = clf.predict(X_test)\n",
        "acc = accuracy_score(Y_test, Y_predict)\n",
        "print(\"Validation accuracy rate: %s\" % acc)\n",
        "\n",
        "## Multi-level decision tree\n",
        "print(\"**    Multi-level DT    **\")\n",
        "clf = tree.DecisionTreeClassifier(criterion = 'entropy', min_samples_leaf = 10, max_depth = None)\n",
        "\n",
        "# Hold-out validation\n",
        "X_train, X_test, Y_train, Y_test = train_test_split(X, Y, test_size=0.34, random_state=random.randint(100))\n",
        "clf = clf.fit(X_train, Y_train)\n",
        "\n",
        "Y_predict = clf.predict(X_train)\n",
        "acc = accuracy_score(Y_train, Y_predict)\n",
        "print(\"Training accuracy rate: %s\" % acc)\n",
        "Y_predict = clf.predict(X_test)\n",
        "acc = accuracy_score(Y_test, Y_predict)\n",
        "print(\"Validation accuracy rate: %s\" % acc)"
      ],
      "execution_count": 228,
      "outputs": [
        {
          "output_type": "stream",
          "text": [
            "***  Glass  dataset  ***\n",
            "**    One-level DT    **\n",
            "Training accuracy rate: 0.46099290780141844\n",
            "Prediction accuracy rate: 0.4246575342465753\n",
            "**    Multi-level DT    **\n",
            "Training accuracy rate: 0.7446808510638298\n",
            "Prediction accuracy rate: 0.6301369863013698\n"
          ],
          "name": "stdout"
        }
      ]
    },
    {
      "cell_type": "markdown",
      "metadata": {
        "id": "5rb4v_VRehx8"
      },
      "source": [
        "**Difference in training/validation accuracy**  \n",
        "The difference comes from the fact that the training part of the dataset is \"known\" to the model, hence accuracy measured on the training data is usually higher than the one measured on validation data.  \n",
        "\n",
        "**One-level and multi-level decision trees**  \n",
        "Multi-level decision trees are a more complex type of decision trees. They allow for representing a situation where events/attributes' order of occurance matters, or when one affect the other. Multi-level trees are also useful in decision-making - once displayed, one can easily see what leads to certain outcomes or what factors have impact on such.\n"
      ]
    },
    {
      "cell_type": "markdown",
      "metadata": {
        "id": "MeeLJePHxyc_"
      },
      "source": [
        "# **4.d**"
      ]
    },
    {
      "cell_type": "markdown",
      "metadata": {
        "id": "zDJdjTi7x1Qw"
      },
      "source": [
        "**Dataset: diabetes**"
      ]
    },
    {
      "cell_type": "code",
      "metadata": {
        "id": "If6uam_sx3gU",
        "outputId": "b3dc3e51-ed5f-4a93-af9f-de61543023fe",
        "colab": {
          "base_uri": "https://localhost:8080/",
          "height": 265
        }
      },
      "source": [
        "Y = data_diabetes['class']\n",
        "X = data_diabetes.drop(['class'],axis=1)\n",
        "\n",
        "len_diabetes = len(data_diabetes)\n",
        "ns = np.append(np.arange(1,len_diabetes,5), len_diabetes)\n",
        "tree_size = []\n",
        "acc_train = []\n",
        "acc = []\n",
        "X_train, X_test, Y_train, Y_test = train_test_split(X, Y, test_size=0.34, random_state=random.randint(100))\n",
        "for n in ns:\n",
        "  clf = tree.DecisionTreeClassifier(criterion = 'entropy', min_samples_leaf = n, max_depth = None)\n",
        "  clf = clf.fit(X_train, Y_train)\n",
        "  tree_size = np.append(tree_size, clf.tree_.node_count)\n",
        "\n",
        "  Y_predict = clf.predict(X_train)\n",
        "  acc_train = np.append(acc_train, accuracy_score(Y_train, Y_predict))\n",
        "\n",
        "  Y_predict = clf.predict(X_test)\n",
        "  acc = np.append(acc, accuracy_score(Y_test, Y_predict))\n",
        "import matplotlib.pyplot as plt\n",
        "plt.plot(tree_size, acc_train)\n",
        "plt.plot(tree_size, acc)\n",
        "plt.ylabel('Accuracy')\n",
        "plt.ylim(0.60, 1.05)\n",
        "plt.legend(['On training data', 'On validation data'])\n",
        "plt.show()\n",
        "\n"
      ],
      "execution_count": 208,
      "outputs": [
        {
          "output_type": "display_data",
          "data": {
            "image/png": "[encoded data removed]",
            "text/plain": [
              "<Figure size 432x288 with 1 Axes>"
            ]
          },
          "metadata": {
            "tags": [],
            "needs_background": "light"
          }
        }
      ]
    },
    {
      "cell_type": "markdown",
      "metadata": {
        "id": "-pe99_myBqkw"
      },
      "source": [
        "Overfitting region:  30/40 - 160 nodes  \n",
        "Underfitting region:  1 - 20 nodes  \n",
        "Optimality: ~40 nodes  \n"
      ]
    },
    {
      "cell_type": "markdown",
      "metadata": {
        "id": "V8N7pNb4_oLw"
      },
      "source": [
        "**Dataset: glass**"
      ]
    },
    {
      "cell_type": "code",
      "metadata": {
        "id": "QiA890OF_j6Z",
        "outputId": "c6026e27-0154-4f03-d93d-80b19f351c16",
        "colab": {
          "base_uri": "https://localhost:8080/",
          "height": 265
        }
      },
      "source": [
        "Y = data_glass['class']\n",
        "X = data_glass.drop(['class'],axis=1)\n",
        "\n",
        "len_glass = len(data_glass)\n",
        "ns = np.append(np.arange(1,len_glass,5), len_glass)\n",
        "tree_size = []\n",
        "acc_train = []\n",
        "acc = []\n",
        "X_train, X_test, Y_train, Y_test = train_test_split(X, Y, test_size=0.34, random_state=random.randint(100))\n",
        "for n in ns:\n",
        "  clf = tree.DecisionTreeClassifier(criterion = 'entropy', min_samples_leaf = n, max_depth = None)\n",
        "  clf = clf.fit(X, Y)\n",
        "  tree_size = np.append(tree_size, clf.tree_.node_count)\n",
        "\n",
        "  Y_predict = clf.predict(X_train)\n",
        "  acc_train = np.append(acc_train, accuracy_score(Y_train, Y_predict))\n",
        "\n",
        "  Y_predict = clf.predict(X_test)\n",
        "  acc = np.append(acc, accuracy_score(Y_test, Y_predict))\n",
        "\n",
        "import matplotlib.pyplot as plt\n",
        "plt.plot(tree_size, acc_train)\n",
        "plt.plot(tree_size, acc)\n",
        "plt.ylabel('Accuracy')\n",
        "plt.ylim(0.25, 1.05)\n",
        "plt.legend(['On training data', 'On validation data'])\n",
        "plt.show()\n",
        "\n"
      ],
      "execution_count": 202,
      "outputs": [
        {
          "output_type": "display_data",
          "data": {
            "image/png": "[encoded data removed]",
            "text/plain": [
              "<Figure size 432x288 with 1 Axes>"
            ]
          },
          "metadata": {
            "tags": [],
            "needs_background": "light"
          }
        }
      ]
    },
    {
      "cell_type": "markdown",
      "metadata": {
        "id": "mk4RUAlPB4rc"
      },
      "source": [
        "Overfitting region: N/A  \n",
        "Underfitting region: 1 - 5 nodes  \n",
        "Optimality: 80 nodes (min_samples_leaf = len_glass)  \n"
      ]
    }
  ]
}